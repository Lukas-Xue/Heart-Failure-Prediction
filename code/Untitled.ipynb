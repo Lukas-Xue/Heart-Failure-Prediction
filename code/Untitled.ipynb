{
 "cells": [
  {
   "cell_type": "code",
   "execution_count": 8,
   "metadata": {},
   "outputs": [],
   "source": [
    "import numpy as np\n",
    "import pandas as pd\n",
    "import matplotlib.pyplot as plt\n",
    "from sklearn.preprocessing import StandardScaler"
   ]
  },
  {
   "cell_type": "code",
   "execution_count": 18,
   "metadata": {},
   "outputs": [],
   "source": [
    "# models\n",
    "from sklearn.linear_model import LogisticRegression\n",
    "from sklearn.tree import DecisionTreeClassifier \n",
    "import sklearn.tree\n",
    "from sklearn.ensemble import RandomForestClassifier\n",
    "\n",
    "#libraries for model evaluation\n",
    "from sklearn.metrics import accuracy_score\n",
    "from sklearn.metrics import plot_confusion_matrix\n",
    "from sklearn.metrics import classification_report"
   ]
  },
  {
   "cell_type": "code",
   "execution_count": 14,
   "metadata": {},
   "outputs": [],
   "source": [
    "data = pd.read_csv(\"../data/heart_disease.csv\")\n",
    "Train = pd.read_csv(\"../data/Train.csv\").values\n",
    "Test = pd.read_csv(\"../data/Test.csv\").values\n",
    "\n",
    "xTrain = Train[:,:-1]\n",
    "yTrain = Train[:,-1]\n",
    "xTest = Test[:,:-1]\n",
    "yTest = Test[:,:-1]\n",
    "scaler = StandardScaler().fit(xTrain)\n",
    "xTrain_scaled = scaler.transform(xTrain)\n",
    "xTest_scaled = scaler.transform(xTest)"
   ]
  },
  {
   "cell_type": "code",
   "execution_count": 19,
   "metadata": {},
   "outputs": [
    {
     "name": "stdout",
     "output_type": "stream",
     "text": [
      "14\n"
     ]
    }
   ],
   "source": [
    "clf = DecisionTreeClassifier().fit(xTrain, yTrain)\n",
    "print(clf.tree_.max_depth)"
   ]
  },
  {
   "cell_type": "code",
   "execution_count": null,
   "metadata": {},
   "outputs": [],
   "source": []
  }
 ],
 "metadata": {
  "kernelspec": {
   "display_name": "Python 3",
   "language": "python",
   "name": "python3"
  },
  "language_info": {
   "codemirror_mode": {
    "name": "ipython",
    "version": 3
   },
   "file_extension": ".py",
   "mimetype": "text/x-python",
   "name": "python",
   "nbconvert_exporter": "python",
   "pygments_lexer": "ipython3",
   "version": "3.7.4"
  }
 },
 "nbformat": 4,
 "nbformat_minor": 2
}
